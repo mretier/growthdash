{
 "cells": [
  {
   "cell_type": "code",
   "execution_count": 1,
   "metadata": {},
   "outputs": [],
   "source": [
    "import numpy as np\n",
    "import pandas as pd\n",
    "import math_functions as mf"
   ]
  },
  {
   "cell_type": "code",
   "execution_count": 2,
   "metadata": {},
   "outputs": [],
   "source": [
    "# set random seed\n",
    "np.random.seed(1234)\n",
    "\n",
    "# parameters\n",
    "n_time_points = 1000 # number of time points in the growth curve\n",
    "t_max = 200\n",
    "time_points_range = np.array([np.around(x, 3) for x in np.linspace(0, t_max, n_time_points).tolist()])\n"
   ]
  },
  {
   "cell_type": "markdown",
   "metadata": {},
   "source": [
    "---\n",
    "## logistic model, no noise\n",
    "### blanks"
   ]
  },
  {
   "cell_type": "code",
   "execution_count": 3,
   "metadata": {},
   "outputs": [],
   "source": [
    "measurement_noise = 0.0"
   ]
  },
  {
   "cell_type": "code",
   "execution_count": 4,
   "metadata": {},
   "outputs": [],
   "source": [
    "# generate blanks\n",
    "n_blanks = 3\n",
    "blank_avg_val = 0.1\n",
    "\n",
    "\n",
    "df_blanks = pd.DataFrame(columns = ['N0', 'A', 'mu_max', 'l', 'sample_name'] + time_points_range.tolist())\n",
    "\n",
    "\n",
    "for i in range(n_blanks):\n",
    "    y = [blank_avg_val + np.around(np.random.normal(0, measurement_noise)) for x in range(n_time_points)]\n",
    "    df_blanks.loc[i] = [np.nan, np.nan, np.nan, np.nan, 'blank {}'.format(i)] + y\n",
    "\n",
    "df_blanks_mean = df_blanks.iloc[:, 5:].mean(axis = 0)\n",
    "\n"
   ]
  },
  {
   "cell_type": "code",
   "execution_count": 5,
   "metadata": {},
   "outputs": [
    {
     "name": "stderr",
     "output_type": "stream",
     "text": [
      "/home/m/Desktop/dashing_growth_curves/growthdash/implementation_test/math_functions.py:29: RuntimeWarning: overflow encountered in power\n",
      "  return np.log(N0) + A * 1 / (1 + np.exp(1)**(4 * mu / A * (l - x) + 2))\n"
     ]
    }
   ],
   "source": [
    "# generate random Logistic growth curves\n",
    "n = 100 # number of curves to generate\n",
    "\n",
    "\n",
    "\n",
    "out = pd.DataFrame(columns=['N0', 'A', 'mu_max', 'l', 'sample_name'] + time_points_range.tolist())\n",
    "\n",
    "\n",
    "for i in range(n):\n",
    "    # generate random parameters\n",
    "    N0 = np.around(np.random.uniform(0, 0.5), 4)\n",
    "    A = np.around(np.random.uniform(0.5, 4), 4)\n",
    "    mu_max = np.around(np.random.uniform(0, 2), 4)\n",
    "    l = np.around(np.random.uniform(0, 100), 4)\n",
    "\n",
    "\n",
    "\n",
    "    # generate growth curve\n",
    "    y_log = mf.modified_logistic(time_points_range, N0, A, mu_max, l)\n",
    "    y = np.exp(y_log)\n",
    "\n",
    "    # add noise to the growth curve\n",
    "    y = [y_i + np.random.normal(0, measurement_noise) for y_i in y]\n",
    "\n",
    "    # add blank to the growth curve\n",
    "    y = np.array(y) + df_blanks_mean.values\n",
    "\n",
    "\n",
    "    out.loc[i] = [N0, A, mu_max, l, 'sample {}'.format(i)] + y.tolist()\n",
    "\n",
    "\n",
    "\n",
    "out_complete = pd.concat([df_blanks, out], axis=0).reset_index(drop=True)\n",
    "out_complete.to_excel('./synthetic_logistic_growth_curves.xlsx', index=False)\n",
    "out_complete_clean = out_complete.iloc[:, 4:]\n",
    "out_complete_clean.to_excel('./synthetic_logistic_growth_curves_dgc_ready.xlsx', index=False)  # drop the first 4 columns\n",
    "\n"
   ]
  },
  {
   "cell_type": "markdown",
   "metadata": {},
   "source": [
    "### compare to Dashing Growth Curve fits\n",
    "Fit synthetic growth data with Dashing Growth Curves (conventional Logistic function) and determine the error between estimated and true parameters.\n",
    "\n",
    "As a sanity check, fit synthetic data also with the conventional Gompertz model. The Gompertz fits should be worse than the Logistic fits."
   ]
  },
  {
   "cell_type": "code",
   "execution_count": 20,
   "metadata": {},
   "outputs": [
    {
     "name": "stdout",
     "output_type": "stream",
     "text": [
      "the relative fitting error of N0 is 0.0000 for logistic fits and 0.0070 for Gompertz fits\n",
      "the relative fitting error of A is 0.0000 for logistic fits and 0.0027 for Gompertz fits\n",
      "the relative fitting error of mu_max is 0.0000 for logistic fits and 0.0027 for Gompertz fits\n",
      "the relative fitting error of l is 0.0000 for logistic fits and 0.0071 for Gompertz fits\n"
     ]
    },
    {
     "data": {
      "text/html": [
       "<div>\n",
       "<style scoped>\n",
       "    .dataframe tbody tr th:only-of-type {\n",
       "        vertical-align: middle;\n",
       "    }\n",
       "\n",
       "    .dataframe tbody tr th {\n",
       "        vertical-align: top;\n",
       "    }\n",
       "\n",
       "    .dataframe thead th {\n",
       "        text-align: right;\n",
       "    }\n",
       "</style>\n",
       "<table border=\"1\" class=\"dataframe\">\n",
       "  <thead>\n",
       "    <tr style=\"text-align: right;\">\n",
       "      <th></th>\n",
       "      <th>parameter</th>\n",
       "      <th>average_relative_error_logistic_model</th>\n",
       "      <th>average_relative_error_gompertz_model</th>\n",
       "    </tr>\n",
       "  </thead>\n",
       "  <tbody>\n",
       "    <tr>\n",
       "      <th>0</th>\n",
       "      <td>N0</td>\n",
       "      <td>0.0</td>\n",
       "      <td>0.0070</td>\n",
       "    </tr>\n",
       "    <tr>\n",
       "      <th>1</th>\n",
       "      <td>A</td>\n",
       "      <td>0.0</td>\n",
       "      <td>0.0027</td>\n",
       "    </tr>\n",
       "    <tr>\n",
       "      <th>2</th>\n",
       "      <td>mu_max</td>\n",
       "      <td>0.0</td>\n",
       "      <td>0.0348</td>\n",
       "    </tr>\n",
       "    <tr>\n",
       "      <th>3</th>\n",
       "      <td>l</td>\n",
       "      <td>0.0</td>\n",
       "      <td>0.0071</td>\n",
       "    </tr>\n",
       "  </tbody>\n",
       "</table>\n",
       "</div>"
      ],
      "text/plain": [
       "  parameter  average_relative_error_logistic_model  \\\n",
       "0        N0                                    0.0   \n",
       "1         A                                    0.0   \n",
       "2    mu_max                                    0.0   \n",
       "3         l                                    0.0   \n",
       "\n",
       "   average_relative_error_gompertz_model  \n",
       "0                                 0.0070  \n",
       "1                                 0.0027  \n",
       "2                                 0.0348  \n",
       "3                                 0.0071  "
      ]
     },
     "execution_count": 20,
     "metadata": {},
     "output_type": "execute_result"
    }
   ],
   "source": [
    "# load data exported from Dashing Growth Curves:\n",
    "df_logistic_fit = pd.read_csv('./synthetic_logistic_data_logistic_fits.csv', sep='\\t').iloc[n_blanks:, :]\n",
    "df_gompertz_fit = pd.read_csv('./synthetic_logistic_data_gompertz_fits.csv', sep='\\t').iloc[n_blanks:, :]\n",
    "out_complete_noblanks = pd.read_excel('./synthetic_logistic_growth_curves.xlsx').iloc[n_blanks:, :]\n",
    "\n",
    "\n",
    "# error functions\n",
    "def compute_rmse(df_1, df_2, column_name_1, column_name_2):\n",
    "    return np.sqrt((df_1[column_name_1] - df_2[column_name_2]).pow(2).sum()/df_1.shape[0])\n",
    "\n",
    "def compute_median_relative_error(df_1, df_2, column_name_1, column_name_2):\n",
    "    # return np.abs((df_1[column_name_1] - df_2[column_name_2]) / df_2[column_name_2]).sum()/df_1.shape[0]\n",
    "    return np.median(np.abs((df_1[column_name_1] - df_2[column_name_2]) / df_2[column_name_2]))\n",
    "\n",
    "\n",
    "\n",
    "df_analysis = pd.DataFrame(columns = ['parameter', 'average_relative_error_logistic_model', 'average_relative_error_gompertz_model'])\n",
    "\n",
    "# compute errors in N0\n",
    "N0_log = compute_median_relative_error(df_logistic_fit, out_complete_noblanks, 'N0', 'N0')\n",
    "N0_gomp = compute_median_relative_error(df_gompertz_fit, out_complete_noblanks, 'N0', 'N0')\n",
    "print('the relative fitting error of N0 is {:.4f} for logistic fits and {:.4f} for Gompertz fits'.format(N0_log, N0_gomp))\n",
    "df_analysis.loc[0] = ['N0', N0_log, N0_gomp]\n",
    "\n",
    "# compute errors in A\n",
    "A_log = compute_median_relative_error(df_logistic_fit, out_complete_noblanks, 'A', 'A')\n",
    "A_gomp = compute_median_relative_error(df_gompertz_fit, out_complete_noblanks, 'A', 'A')\n",
    "print('the relative fitting error of A is {:.4f} for logistic fits and {:.4f} for Gompertz fits'.format(A_log, A_gomp))\n",
    "df_analysis.loc[1] = ['A', A_log, A_gomp]\n",
    "\n",
    "# compute errors in mu_max\n",
    "mu_log = compute_median_relative_error(df_logistic_fit, out_complete_noblanks, 'mumax', 'mu_max')\n",
    "mu_gomp = compute_median_relative_error(df_gompertz_fit, out_complete_noblanks, 'mumax', 'mu_max')\n",
    "print('the relative fitting error of mu_max is {:.4f} for logistic fits and {:.4f} for Gompertz fits'.format(A_log, A_gomp))\n",
    "df_analysis.loc[2] = ['mu_max', mu_log, mu_gomp]\n",
    "\n",
    "# compute errors in l\n",
    "l_log = compute_median_relative_error(df_logistic_fit, out_complete_noblanks, 't0', 'l')\n",
    "l_gomp = compute_median_relative_error(df_gompertz_fit, out_complete_noblanks, 't0', 'l')\n",
    "print('the relative fitting error of l is {:.4f} for logistic fits and {:.4f} for Gompertz fits'.format(l_log, l_gomp))\n",
    "df_analysis.loc[3] = ['l', l_log, l_gomp]\n",
    "\n",
    "\n",
    "df_analysis = df_analysis.round(4)\n",
    "df_analysis.to_excel('./synthetic_logistic_growth_curves_analysis.xlsx', index=False)\n",
    "df_analysis"
   ]
  },
  {
   "cell_type": "markdown",
   "metadata": {},
   "source": [
    "# logistic model, with noise"
   ]
  },
  {
   "cell_type": "code",
   "execution_count": 22,
   "metadata": {},
   "outputs": [],
   "source": [
    "out_complete_clean = pd.read_excel('./synthetic_logistic_growth_curves.xlsx').iloc[:, 4:]\n"
   ]
  },
  {
   "cell_type": "code",
   "execution_count": 30,
   "metadata": {},
   "outputs": [],
   "source": [
    "measurement_noise = 0.05\n",
    "out_complete_clean_noised = out_complete_clean.copy()\n",
    "shape_noise = [out_complete_clean_noised.shape[0], out_complete_clean_noised.shape[1] - 1]\n",
    "out_complete_clean_noised.iloc[:, 1:] = out_complete_clean_noised.iloc[:, 1:] + np.random.normal(0, measurement_noise, shape_noise)\n",
    "out_complete_clean_noised.to_excel('./synthetic_logistic_growth_curves_dgc_ready_noised.xlsx', index=False)"
   ]
  },
  {
   "cell_type": "markdown",
   "metadata": {},
   "source": [
    "### compare to Dashing Growth Curve fits\n",
    "Fit synthetic growth data with Dashing Growth Curves (conventional Logistic function) and determine the error between estimated and true parameters.\n",
    "\n",
    "As a sanity check, fit synthetic data also with the conventional Gompertz model. The Gompertz fits should be worse than the Logistic fits."
   ]
  },
  {
   "cell_type": "code",
   "execution_count": 32,
   "metadata": {},
   "outputs": [
    {
     "name": "stdout",
     "output_type": "stream",
     "text": [
      "the relative fitting error of N0 is 0.0366 for logistic fits and 0.0338 for Gompertz fits\n",
      "the relative fitting error of A is 0.0227 for logistic fits and 0.0219 for Gompertz fits\n",
      "the relative fitting error of mu_max is 0.0227 for logistic fits and 0.0219 for Gompertz fits\n",
      "the relative fitting error of l is 0.0025 for logistic fits and 0.0036 for Gompertz fits\n"
     ]
    },
    {
     "data": {
      "text/html": [
       "<div>\n",
       "<style scoped>\n",
       "    .dataframe tbody tr th:only-of-type {\n",
       "        vertical-align: middle;\n",
       "    }\n",
       "\n",
       "    .dataframe tbody tr th {\n",
       "        vertical-align: top;\n",
       "    }\n",
       "\n",
       "    .dataframe thead th {\n",
       "        text-align: right;\n",
       "    }\n",
       "</style>\n",
       "<table border=\"1\" class=\"dataframe\">\n",
       "  <thead>\n",
       "    <tr style=\"text-align: right;\">\n",
       "      <th></th>\n",
       "      <th>parameter</th>\n",
       "      <th>average_relative_error_logistic_model</th>\n",
       "      <th>average_relative_error_gompertz_model</th>\n",
       "    </tr>\n",
       "  </thead>\n",
       "  <tbody>\n",
       "    <tr>\n",
       "      <th>0</th>\n",
       "      <td>N0</td>\n",
       "      <td>0.0366</td>\n",
       "      <td>0.0338</td>\n",
       "    </tr>\n",
       "    <tr>\n",
       "      <th>1</th>\n",
       "      <td>A</td>\n",
       "      <td>0.0227</td>\n",
       "      <td>0.0219</td>\n",
       "    </tr>\n",
       "    <tr>\n",
       "      <th>2</th>\n",
       "      <td>mu_max</td>\n",
       "      <td>0.0655</td>\n",
       "      <td>0.0754</td>\n",
       "    </tr>\n",
       "    <tr>\n",
       "      <th>3</th>\n",
       "      <td>l</td>\n",
       "      <td>0.0025</td>\n",
       "      <td>0.0036</td>\n",
       "    </tr>\n",
       "  </tbody>\n",
       "</table>\n",
       "</div>"
      ],
      "text/plain": [
       "  parameter  average_relative_error_logistic_model  \\\n",
       "0        N0                                 0.0366   \n",
       "1         A                                 0.0227   \n",
       "2    mu_max                                 0.0655   \n",
       "3         l                                 0.0025   \n",
       "\n",
       "   average_relative_error_gompertz_model  \n",
       "0                                 0.0338  \n",
       "1                                 0.0219  \n",
       "2                                 0.0754  \n",
       "3                                 0.0036  "
      ]
     },
     "execution_count": 32,
     "metadata": {},
     "output_type": "execute_result"
    }
   ],
   "source": [
    "# load data exported from Dashing Growth Curves:\n",
    "df_logistic_fit = pd.read_csv('./synthetic_logistic_data_noised_logistic_fits.csv', sep='\\t').iloc[n_blanks:, :]\n",
    "df_gompertz_fit = pd.read_csv('./synthetic_logistic_data_noised_gompertz_fits.csv', sep='\\t').iloc[n_blanks:, :]\n",
    "out_complete_noblanks = pd.read_excel('./synthetic_logistic_growth_curves.xlsx').iloc[n_blanks:, :]\n",
    "\n",
    "\n",
    "# error functions\n",
    "def compute_rmse(df_1, df_2, column_name_1, column_name_2):\n",
    "    return np.sqrt((df_1[column_name_1] - df_2[column_name_2]).pow(2).sum()/df_1.shape[0])\n",
    "\n",
    "def compute_median_relative_error(df_1, df_2, column_name_1, column_name_2):\n",
    "    # return np.abs((df_1[column_name_1] - df_2[column_name_2]) / df_2[column_name_2]).sum()/df_1.shape[0]\n",
    "    return np.median(np.abs((df_1[column_name_1] - df_2[column_name_2]) / df_2[column_name_2]))\n",
    "\n",
    "\n",
    "df_analysis = pd.DataFrame(columns = ['parameter', 'average_relative_error_logistic_model', 'average_relative_error_gompertz_model'])\n",
    "\n",
    "# compute errors in N0\n",
    "N0_log = compute_median_relative_error(df_logistic_fit, out_complete_noblanks, 'N0', 'N0')\n",
    "N0_gomp = compute_median_relative_error(df_gompertz_fit, out_complete_noblanks, 'N0', 'N0')\n",
    "print('the relative fitting error of N0 is {:.4f} for logistic fits and {:.4f} for Gompertz fits'.format(N0_log, N0_gomp))\n",
    "df_analysis.loc[0] = ['N0', N0_log, N0_gomp]\n",
    "\n",
    "# compute errors in A\n",
    "A_log = compute_median_relative_error(df_logistic_fit, out_complete_noblanks, 'A', 'A')\n",
    "A_gomp = compute_median_relative_error(df_gompertz_fit, out_complete_noblanks, 'A', 'A')\n",
    "print('the relative fitting error of A is {:.4f} for logistic fits and {:.4f} for Gompertz fits'.format(A_log, A_gomp))\n",
    "df_analysis.loc[1] = ['A', A_log, A_gomp]\n",
    "\n",
    "# compute errors in mu_max\n",
    "mu_log = compute_median_relative_error(df_logistic_fit, out_complete_noblanks, 'mumax', 'mu_max')\n",
    "mu_gomp = compute_median_relative_error(df_gompertz_fit, out_complete_noblanks, 'mumax', 'mu_max')\n",
    "print('the relative fitting error of mu_max is {:.4f} for logistic fits and {:.4f} for Gompertz fits'.format(A_log, A_gomp))\n",
    "df_analysis.loc[2] = ['mu_max', mu_log, mu_gomp]\n",
    "\n",
    "# compute errors in l\n",
    "l_log = compute_median_relative_error(df_logistic_fit, out_complete_noblanks, 't0', 'l')\n",
    "l_gomp = compute_median_relative_error(df_gompertz_fit, out_complete_noblanks, 't0', 'l')\n",
    "print('the relative fitting error of l is {:.4f} for logistic fits and {:.4f} for Gompertz fits'.format(l_log, l_gomp))\n",
    "df_analysis.loc[3] = ['l', l_log, l_gomp]\n",
    "\n",
    "\n",
    "df_analysis = df_analysis.round(4)\n",
    "df_analysis.to_excel('./synthetic_logistic_growth_curves_noised_analysis.xlsx', index=False)\n",
    "df_analysis"
   ]
  },
  {
   "cell_type": "markdown",
   "metadata": {},
   "source": [
    "---\n",
    "# gompertz model, no noise"
   ]
  },
  {
   "cell_type": "code",
   "execution_count": 34,
   "metadata": {},
   "outputs": [],
   "source": [
    "measurement_noise = 0"
   ]
  },
  {
   "cell_type": "code",
   "execution_count": 33,
   "metadata": {},
   "outputs": [],
   "source": [
    "# generate random Logistic growth curves\n",
    "n = 100 # number of curves to generate\n",
    "\n",
    "out = pd.DataFrame(columns=['N0', 'A', 'mu_max', 'l', 'sample_name'] + time_points_range.tolist())\n",
    "\n",
    "\n",
    "for i in range(n):\n",
    "    # generate random parameters\n",
    "    N0 = np.around(np.random.uniform(0, 0.5), 4)\n",
    "    A = np.around(np.random.uniform(0.5, 4), 4)\n",
    "    mu_max = np.around(np.random.uniform(0, 2), 4)\n",
    "    l = np.around(np.random.uniform(0, 100), 4)\n",
    "\n",
    "\n",
    "    # generate growth curve\n",
    "    y_log = mf.modified_gompertz(time_points_range, N0, A, mu_max, l)\n",
    "    y = np.exp(y_log)\n",
    "\n",
    "    # add noise to the growth curve\n",
    "    y = [y_i + np.random.normal(0, measurement_noise) for y_i in y]\n",
    "\n",
    "    # add blank to the growth curve\n",
    "    y = np.array(y) + df_blanks_mean.values\n",
    "\n",
    "\n",
    "    out.loc[i] = [N0, A, mu_max, l, 'sample {}'.format(i)] + y.tolist()\n",
    "\n",
    "\n",
    "\n",
    "out_complete = pd.concat([df_blanks, out], axis=0).reset_index(drop=True)\n",
    "out_complete.to_excel('./synthetic_gompertz_growth_curves.xlsx', index=False)\n",
    "out_complete_clean = out_complete.iloc[:, 4:]\n",
    "out_complete_clean.to_excel('./synthetic_gompertz_growth_curves_dgc_ready.xlsx', index=False)  # drop the first 4 columns\n",
    "\n"
   ]
  },
  {
   "cell_type": "markdown",
   "metadata": {},
   "source": [
    "### compare to Dashing Growth Curve fits\n",
    "Fit synthetic growth data with Dashing Growth Curves (conventional Logistic function) and determine the error between estimated and true parameters.\n",
    "\n",
    "As a sanity check, fit synthetic data also with the conventional Logistic model. The Logistic fits should be worse than the Gompertz fits."
   ]
  },
  {
   "cell_type": "code",
   "execution_count": 10,
   "metadata": {},
   "outputs": [
    {
     "name": "stdout",
     "output_type": "stream",
     "text": [
      "the relative fitting error of N0 is 0.0022 for logistic fits and 0.0000 for Gompertz fits\n",
      "the relative fitting error of A is 0.0005 for logistic fits and 0.0000 for Gompertz fits\n",
      "the relative fitting error of mu_max is 0.0005 for logistic fits and 0.0000 for Gompertz fits\n",
      "the relative fitting error of l is 0.0013 for logistic fits and 0.0000 for Gompertz fits\n"
     ]
    },
    {
     "data": {
      "text/html": [
       "<div>\n",
       "<style scoped>\n",
       "    .dataframe tbody tr th:only-of-type {\n",
       "        vertical-align: middle;\n",
       "    }\n",
       "\n",
       "    .dataframe tbody tr th {\n",
       "        vertical-align: top;\n",
       "    }\n",
       "\n",
       "    .dataframe thead th {\n",
       "        text-align: right;\n",
       "    }\n",
       "</style>\n",
       "<table border=\"1\" class=\"dataframe\">\n",
       "  <thead>\n",
       "    <tr style=\"text-align: right;\">\n",
       "      <th></th>\n",
       "      <th>parameter</th>\n",
       "      <th>average_relative_error_logistic_model</th>\n",
       "      <th>average_relative_error_gompertz_model</th>\n",
       "    </tr>\n",
       "  </thead>\n",
       "  <tbody>\n",
       "    <tr>\n",
       "      <th>0</th>\n",
       "      <td>N0</td>\n",
       "      <td>0.0022</td>\n",
       "      <td>0.0</td>\n",
       "    </tr>\n",
       "    <tr>\n",
       "      <th>1</th>\n",
       "      <td>A</td>\n",
       "      <td>0.0005</td>\n",
       "      <td>0.0</td>\n",
       "    </tr>\n",
       "    <tr>\n",
       "      <th>2</th>\n",
       "      <td>mu_max</td>\n",
       "      <td>0.0171</td>\n",
       "      <td>0.0</td>\n",
       "    </tr>\n",
       "    <tr>\n",
       "      <th>3</th>\n",
       "      <td>l</td>\n",
       "      <td>0.0013</td>\n",
       "      <td>0.0</td>\n",
       "    </tr>\n",
       "  </tbody>\n",
       "</table>\n",
       "</div>"
      ],
      "text/plain": [
       "  parameter  average_relative_error_logistic_model  \\\n",
       "0        N0                                 0.0022   \n",
       "1         A                                 0.0005   \n",
       "2    mu_max                                 0.0171   \n",
       "3         l                                 0.0013   \n",
       "\n",
       "   average_relative_error_gompertz_model  \n",
       "0                                    0.0  \n",
       "1                                    0.0  \n",
       "2                                    0.0  \n",
       "3                                    0.0  "
      ]
     },
     "execution_count": 10,
     "metadata": {},
     "output_type": "execute_result"
    }
   ],
   "source": [
    "# load data exported from Dashing Growth Curves:\n",
    "df_logistic_fit = pd.read_csv('./synthetic_gompertz_data_logistic_fits.csv', sep='\\t').iloc[n_blanks:, :]\n",
    "df_gompertz_fit = pd.read_csv('./synthetic_gompertz_data_gompertz_fits.csv', sep='\\t').iloc[n_blanks:, :]\n",
    "out_complete_noblanks = pd.read_excel('./synthetic_gompertz_growth_curves.xlsx').iloc[n_blanks:, :]\n",
    "\n",
    "\n",
    "# error functions\n",
    "def compute_rmse(df_1, df_2, column_name_1, column_name_2):\n",
    "    return np.sqrt((df_1[column_name_1] - df_2[column_name_2]).pow(2).sum()/df_1.shape[0])\n",
    "\n",
    "def compute_median_relative_error(df_1, df_2, column_name_1, column_name_2):\n",
    "    # return np.abs((df_1[column_name_1] - df_2[column_name_2]) / df_2[column_name_2]).sum()/df_1.shape[0]\n",
    "    return np.median(np.abs((df_1[column_name_1] - df_2[column_name_2]) / df_2[column_name_2]))\n",
    "\n",
    "\n",
    "\n",
    "df_analysis = pd.DataFrame(columns = ['parameter', 'average_relative_error_logistic_model', 'average_relative_error_gompertz_model'])\n",
    "\n",
    "# compute errors in N0\n",
    "N0_log = compute_median_relative_error(df_logistic_fit, out_complete_noblanks, 'N0', 'N0')\n",
    "N0_gomp = compute_median_relative_error(df_gompertz_fit, out_complete_noblanks, 'N0', 'N0')\n",
    "print('the relative fitting error of N0 is {:.4f} for logistic fits and {:.4f} for Gompertz fits'.format(N0_log, N0_gomp))\n",
    "df_analysis.loc[0] = ['N0', N0_log, N0_gomp]\n",
    "\n",
    "# compute errors in A\n",
    "A_log = compute_median_relative_error(df_logistic_fit, out_complete_noblanks, 'A', 'A')\n",
    "A_gomp = compute_median_relative_error(df_gompertz_fit, out_complete_noblanks, 'A', 'A')\n",
    "print('the relative fitting error of A is {:.4f} for logistic fits and {:.4f} for Gompertz fits'.format(A_log, A_gomp))\n",
    "df_analysis.loc[1] = ['A', A_log, A_gomp]\n",
    "\n",
    "# compute errors in mu_max\n",
    "mu_log = compute_median_relative_error(df_logistic_fit, out_complete_noblanks, 'mumax', 'mu_max')\n",
    "mu_gomp = compute_median_relative_error(df_gompertz_fit, out_complete_noblanks, 'mumax', 'mu_max')\n",
    "print('the relative fitting error of mu_max is {:.4f} for logistic fits and {:.4f} for Gompertz fits'.format(A_log, A_gomp))\n",
    "df_analysis.loc[2] = ['mu_max', mu_log, mu_gomp]\n",
    "\n",
    "# compute errors in l\n",
    "l_log = compute_median_relative_error(df_logistic_fit, out_complete_noblanks, 't0', 'l')\n",
    "l_gomp = compute_median_relative_error(df_gompertz_fit, out_complete_noblanks, 't0', 'l')\n",
    "print('the relative fitting error of l is {:.4f} for logistic fits and {:.4f} for Gompertz fits'.format(l_log, l_gomp))\n",
    "df_analysis.loc[3] = ['l', l_log, l_gomp]\n",
    "\n",
    "\n",
    "df_analysis = df_analysis.round(4)\n",
    "df_analysis.to_excel('./synthetic_logistic_growth_curves_analysis.xlsx', index=False)\n",
    "df_analysis"
   ]
  },
  {
   "cell_type": "markdown",
   "metadata": {},
   "source": [
    "# gompertz model, with noise"
   ]
  },
  {
   "cell_type": "code",
   "execution_count": 12,
   "metadata": {},
   "outputs": [],
   "source": [
    "out_complete_clean = pd.read_excel('./synthetic_gompertz_growth_curves.xlsx').iloc[:, 4:]\n"
   ]
  },
  {
   "cell_type": "code",
   "execution_count": 13,
   "metadata": {},
   "outputs": [],
   "source": [
    "measurement_noise = 0.05\n",
    "out_complete_clean_noised = out_complete_clean.copy()\n",
    "shape_noise = [out_complete_clean_noised.shape[0], out_complete_clean_noised.shape[1] - 1]\n",
    "out_complete_clean_noised.iloc[:, 1:] = out_complete_clean_noised.iloc[:, 1:] + np.random.normal(0, measurement_noise, shape_noise)\n",
    "out_complete_clean_noised.to_excel('./synthetic_gompertz_growth_curves_dgc_ready_noised.xlsx', index=False)"
   ]
  },
  {
   "cell_type": "markdown",
   "metadata": {},
   "source": [
    "### compare to Dashing Growth Curve fits\n",
    "Fit synthetic growth data with Dashing Growth Curves (conventional Gompertz function) and determine the error between estimated and true parameters.\n",
    "\n",
    "As a sanity check, fit synthetic data also with the conventional Logistic model. The Logistic fits should be worse than the Logistic fits."
   ]
  },
  {
   "cell_type": "code",
   "execution_count": null,
   "metadata": {},
   "outputs": [],
   "source": [
    "# load data exported from Dashing Growth Curves:\n",
    "df_logistic_fit = pd.read_csv('./synthetic_gompertz_data_noised_logistic_fits.csv', sep='\\t').iloc[n_blanks:, :]\n",
    "df_gompertz_fit = pd.read_csv('./synthetic_gompertz_data_noised_gompertz_fits.csv', sep='\\t').iloc[n_blanks:, :]\n",
    "out_complete_noblanks = pd.read_excel('./synthetic_gompertz_growth_curves.xlsx').iloc[n_blanks:, :]\n",
    "\n",
    "\n",
    "# error functions\n",
    "def compute_rmse(df_1, df_2, column_name_1, column_name_2):\n",
    "    return np.sqrt((df_1[column_name_1] - df_2[column_name_2]).pow(2).sum()/df_1.shape[0])\n",
    "\n",
    "def compute_median_relative_error(df_1, df_2, column_name_1, column_name_2):\n",
    "    # return np.abs((df_1[column_name_1] - df_2[column_name_2]) / df_2[column_name_2]).sum()/df_1.shape[0]\n",
    "    return np.median(np.abs((df_1[column_name_1] - df_2[column_name_2]) / df_2[column_name_2]))\n",
    "\n",
    "\n",
    "df_analysis = pd.DataFrame(columns = ['parameter', 'average_relative_error_logistic_model', 'average_relative_error_gompertz_model'])\n",
    "\n",
    "# compute errors in N0\n",
    "N0_log = compute_median_relative_error(df_logistic_fit, out_complete_noblanks, 'N0', 'N0')\n",
    "N0_gomp = compute_median_relative_error(df_gompertz_fit, out_complete_noblanks, 'N0', 'N0')\n",
    "print('the relative fitting error of N0 is {:.4f} for logistic fits and {:.4f} for Gompertz fits'.format(N0_log, N0_gomp))\n",
    "df_analysis.loc[0] = ['N0', N0_log, N0_gomp]\n",
    "\n",
    "# compute errors in A\n",
    "A_log = compute_median_relative_error(df_logistic_fit, out_complete_noblanks, 'A', 'A')\n",
    "A_gomp = compute_median_relative_error(df_gompertz_fit, out_complete_noblanks, 'A', 'A')\n",
    "print('the relative fitting error of A is {:.4f} for logistic fits and {:.4f} for Gompertz fits'.format(A_log, A_gomp))\n",
    "df_analysis.loc[1] = ['A', A_log, A_gomp]\n",
    "\n",
    "# compute errors in mu_max\n",
    "mu_log = compute_median_relative_error(df_logistic_fit, out_complete_noblanks, 'mumax', 'mu_max')\n",
    "mu_gomp = compute_median_relative_error(df_gompertz_fit, out_complete_noblanks, 'mumax', 'mu_max')\n",
    "print('the relative fitting error of mu_max is {:.4f} for logistic fits and {:.4f} for Gompertz fits'.format(A_log, A_gomp))\n",
    "df_analysis.loc[2] = ['mu_max', mu_log, mu_gomp]\n",
    "\n",
    "# compute errors in l\n",
    "l_log = compute_median_relative_error(df_logistic_fit, out_complete_noblanks, 't0', 'l')\n",
    "l_gomp = compute_median_relative_error(df_gompertz_fit, out_complete_noblanks, 't0', 'l')\n",
    "print('the relative fitting error of l is {:.4f} for logistic fits and {:.4f} for Gompertz fits'.format(l_log, l_gomp))\n",
    "df_analysis.loc[3] = ['l', l_log, l_gomp]\n",
    "\n",
    "\n",
    "df_analysis = df_analysis.round(4)\n",
    "df_analysis.to_excel('./synthetic_logistic_growth_curves_noised_analysis.xlsx', index=False)\n",
    "df_analysis"
   ]
  }
 ],
 "metadata": {
  "kernelspec": {
   "display_name": "mybase",
   "language": "python",
   "name": "python3"
  },
  "language_info": {
   "codemirror_mode": {
    "name": "ipython",
    "version": 3
   },
   "file_extension": ".py",
   "mimetype": "text/x-python",
   "name": "python",
   "nbconvert_exporter": "python",
   "pygments_lexer": "ipython3",
   "version": "3.12.1"
  }
 },
 "nbformat": 4,
 "nbformat_minor": 2
}
